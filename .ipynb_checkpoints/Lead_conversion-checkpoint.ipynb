{
 "cells": [
  {
   "cell_type": "code",
   "execution_count": null,
   "id": "e837b722",
   "metadata": {},
   "outputs": [],
   "source": [
    "#import neccesary libraries\n",
    "import pandas as pd\n",
    "import numpy as np\n",
    "import matplotlib.pyplot as plt\n",
    "import seaborn as sns\n",
    "from imblearn.combine import SMOTEENN\n",
    "from imblearn.pipeline import Pipeline\n",
    "import matplotlib.pyplot as plt\n",
    "from sklearn.datasets import make_classification\n",
    "from sklearn.model_selection import cross_validate\n",
    "from sklearn.model_selection import RepeatedStratifiedKFold\n",
    "from sklearn.ensemble import AdaBoostClassifier\n",
    "from imblearn.combine import SMOTEENN\n",
    "from sklearn.model_selection import GridSearchCV\n",
    "from sklearn.experimental import enable_halving_search_cv \n",
    "from sklearn.model_selection import HalvingGridSearchCV\n",
    "from imblearn.under_sampling import EditedNearestNeighbours\n",
    "from sklearn.svm import LinearSVC\n",
    "from sklearn.model_selection import cross_val_score\n",
    "from sklearn.neighbors import KNeighborsClassifier\n",
    "from collections import Counter\n",
    "from imblearn.over_sampling import ADASYN, SMOTE\n",
    "import xgboost\n",
    "import wandb\n",
    "from xgboost import XGBClassifier\n",
    "from sklearn.tree import DecisionTreeClassifier\n",
    "from sklearn.linear_model import LogisticRegression\n",
    "from sklearn.model_selection import KFold, StratifiedKFold"
   ]
  },
  {
   "cell_type": "code",
   "execution_count": null,
   "id": "ccfe1a35",
   "metadata": {},
   "outputs": [],
   "source": [
    "#read in dataset\n",
    "df=pd.read_csv('datasets/lead_convert.csv',index_col=0)\n",
    "print(f\"There are {df.shape[0]} rows and {df.shape[1]} columns\")\n",
    "df.head()"
   ]
  },
  {
   "cell_type": "code",
   "execution_count": null,
   "id": "d494d358",
   "metadata": {},
   "outputs": [],
   "source": [
    "#improve column name\n",
    "df=df.rename(columns={'lead_ip_country_code':'lead_country_of_registration'})"
   ]
  },
  {
   "cell_type": "code",
   "execution_count": null,
   "id": "ed7f90a3",
   "metadata": {
    "scrolled": true
   },
   "outputs": [],
   "source": [
    "df.info()"
   ]
  },
  {
   "cell_type": "code",
   "execution_count": null,
   "id": "f12e36fd",
   "metadata": {},
   "outputs": [],
   "source": [
    "#check for missing values\n",
    "df.isnull().sum()"
   ]
  },
  {
   "cell_type": "code",
   "execution_count": null,
   "id": "ed85b0d9",
   "metadata": {},
   "outputs": [],
   "source": [
    "#percentage of missing values\n",
    "(df.isnull().sum()/len(df))*100"
   ]
  },
  {
   "cell_type": "markdown",
   "id": "bdd92801",
   "metadata": {},
   "source": [
    "#### Only the lead_utm_medium has missing values, but only 6 of them, accounting for less than 1% of it"
   ]
  },
  {
   "cell_type": "code",
   "execution_count": null,
   "id": "d3ceccbf",
   "metadata": {},
   "outputs": [],
   "source": [
    "df['lead_utm_source'].value_counts(normalize=True)*100"
   ]
  },
  {
   "cell_type": "code",
   "execution_count": null,
   "id": "0d08cb85",
   "metadata": {},
   "outputs": [],
   "source": [
    "#filling the missing values with the mode\n",
    "df['lead_utm_medium']=df['lead_utm_medium'].fillna(df['lead_utm_medium'].mode()[0])"
   ]
  },
  {
   "cell_type": "code",
   "execution_count": null,
   "id": "833d181a",
   "metadata": {},
   "outputs": [],
   "source": [
    "#confirming there are no mising values anymore\n",
    "df.isnull().sum()"
   ]
  },
  {
   "cell_type": "code",
   "execution_count": null,
   "id": "e1b65bb3",
   "metadata": {},
   "outputs": [],
   "source": [
    "df['conversion_revenue'].describe()"
   ]
  },
  {
   "cell_type": "code",
   "execution_count": null,
   "id": "3196ce36",
   "metadata": {},
   "outputs": [],
   "source": [
    "np.percentile(df['conversion_revenue'],99)"
   ]
  },
  {
   "cell_type": "code",
   "execution_count": null,
   "id": "9604717c",
   "metadata": {},
   "outputs": [],
   "source": [
    "#I would create a new feature called converted, where any revenue above 0 means lead was converted and below 0 means lead was not converted\n",
    "df['converted']=np.repeat(df.conversion_revenue.values,1)\n",
    "df['converted']=pd.Series(np.where(df['converted'].values == 0, 0, 1),df.index)"
   ]
  },
  {
   "cell_type": "code",
   "execution_count": null,
   "id": "368ae17d",
   "metadata": {},
   "outputs": [],
   "source": [
    "fig1, ax1 = plt.subplots(figsize=(9,9))\n",
    "explode=(0.1,0.1)\n",
    "plt.pie(df['converted'].value_counts(),labels=df['converted'].unique(), explode=explode,shadow=True,\n",
    "        startangle=90,autopct='%.2f')\n",
    "ax1.axis('equal');\n",
    "ax1.set_title('Leads that converted',fontdict={'size':20});"
   ]
  },
  {
   "cell_type": "markdown",
   "id": "7ac21949",
   "metadata": {},
   "source": [
    "#### 1 refers to leads that converted, and 0 refers to lead not converting\n",
    "#### 95.46% of leads did not convert, which suggests this app needs to do better to convert more leads to make more profit"
   ]
  },
  {
   "cell_type": "code",
   "execution_count": null,
   "id": "4fbbf1ca",
   "metadata": {},
   "outputs": [],
   "source": [
    "df['lead_country_of_registration'].value_counts(normalize=True)*100"
   ]
  },
  {
   "cell_type": "markdown",
   "id": "9dc972ac",
   "metadata": {},
   "source": [
    "#### Most leads reside in the United states, with over 98% of leads, the rest of the countries accoutn for less than 1%"
   ]
  },
  {
   "cell_type": "code",
   "execution_count": null,
   "id": "19f65e75",
   "metadata": {},
   "outputs": [],
   "source": [
    "plt.figure(figsize=(13,9))\n",
    "ax=pd.crosstab(df['lead_country_of_registration'], df['converted'],normalize='index')[1].mul(100).sort_values(ascending=True).plot(kind='barh',cmap='crest')\n",
    "ax.bar_label(ax.containers[0], fmt='%.2f %%');"
   ]
  },
  {
   "cell_type": "markdown",
   "id": "61939eab",
   "metadata": {},
   "source": [
    "#### Even though the United states accounted for nearly 99% of all leads, less than 5% of them converted\n",
    "#### The UK which accounted for less than 1% of all leads, had the most leads converting, with around 5.27% of leads converting\n",
    "#### Italy and Ghana had no lead converting"
   ]
  },
  {
   "cell_type": "code",
   "execution_count": null,
   "id": "70e169d5",
   "metadata": {},
   "outputs": [],
   "source": [
    "df['lead_utm_source'].value_counts(normalize=True)*100"
   ]
  },
  {
   "cell_type": "code",
   "execution_count": null,
   "id": "5d204e11",
   "metadata": {},
   "outputs": [],
   "source": [
    "plt.figure(figsize=(11,8))\n",
    "ax=pd.crosstab(df['lead_utm_source'], df['converted'],normalize='index')[1].mul(100).sort_values(ascending=False).plot(kind='bar',cmap='coolwarm_r')\n",
    "ax.bar_label(ax.containers[0], fmt='%.2f %%');"
   ]
  },
  {
   "cell_type": "markdown",
   "id": "f00bce07",
   "metadata": {},
   "source": [
    "#### Facebook is the source that most leads redirect from, but only 3.73% of leads convert from there\n",
    "#### Medium redirection acounts for the most lead conversion with 6.76%, even though less than 1% of all leads redirect from there"
   ]
  },
  {
   "cell_type": "code",
   "execution_count": null,
   "id": "606b8945",
   "metadata": {},
   "outputs": [],
   "source": [
    "df['lead_hour_of_registration'].describe()"
   ]
  },
  {
   "cell_type": "code",
   "execution_count": null,
   "id": "eeaad30d",
   "metadata": {},
   "outputs": [],
   "source": [
    "#creating time of registraion from hour of registration\n",
    "df['lead_time_of_registration']=pd.cut(df['lead_hour_of_registration'], [0,5,9,14,20,24], labels=['Dawn','Morning','Afternoon','Evening','Night'], right=False,include_lowest=True)\n",
    "ax=(df['lead_time_of_registration'].value_counts(normalize=True)*100).plot(kind='bar',figsize=(11,8),cmap='tab10_r')\n",
    "ax.bar_label(ax.containers[0], fmt='%.2f %%');"
   ]
  },
  {
   "cell_type": "markdown",
   "id": "da446c00",
   "metadata": {},
   "source": [
    "#### Most leads check out the app and register at dawn, with a little over 27% of them doing so\n",
    "#### Night time is the time of the day with the least amount of leads registering with a little below 6% of leads"
   ]
  },
  {
   "cell_type": "code",
   "execution_count": null,
   "id": "5dcdb45d",
   "metadata": {},
   "outputs": [],
   "source": [
    "(df['lead_utm_medium'].value_counts()/ len(df['lead_utm_medium']))*100"
   ]
  },
  {
   "cell_type": "code",
   "execution_count": null,
   "id": "1f9ac0b9",
   "metadata": {},
   "outputs": [],
   "source": [
    "plt.figure(figsize=(11,8))\n",
    "ax=pd.crosstab(df['lead_utm_medium'], df['converted'],normalize='index')[1].mul(100).sort_values(ascending=False).plot(kind='bar',cmap='Paired')\n",
    "ax.bar_label(ax.containers[0], fmt='%.2f %%');"
   ]
  },
  {
   "cell_type": "markdown",
   "id": "f4f2ef66",
   "metadata": {},
   "source": [
    "#### leads from social media sites account for about 98% of all leads, but only 4.55% of them converted\n",
    "#### leads who use organic search have the most leads converting with around 6% of them converting, while they have less than 1% of all leads using organic searches"
   ]
  },
  {
   "cell_type": "code",
   "execution_count": null,
   "id": "08677ee1",
   "metadata": {},
   "outputs": [],
   "source": [
    "df['hours_since_registration'].describe()"
   ]
  },
  {
   "cell_type": "code",
   "execution_count": null,
   "id": "0aa0aaaa",
   "metadata": {},
   "outputs": [],
   "source": [
    "df['Time since registration']=pd.cut(df['hours_since_registration'], [0,17,190,805,9490], labels=['Under one day','A day to a week','A week to a month','A month to over a year'], right=False,include_lowest=True)\n",
    "ax=(df['Time since registration'].value_counts(normalize=True)*100).sort_values(ascending=True).plot(kind='barh',figsize=(11,8),cmap='Wistia_r')\n",
    "ax.bar_label(ax.containers[0], fmt='%.2f %%');"
   ]
  },
  {
   "cell_type": "markdown",
   "id": "798e357d",
   "metadata": {},
   "source": [
    "#### Most people check the app and register on that same app, with 25.23% of people doing that\n",
    "#### Generally, theres not much difference between the time individuals first check the app, and the time they register\n",
    "#### Even those that wait for a month to a year account fo 24.98%, which isnt that much different from the 25.23% of peope that do so in a day"
   ]
  },
  {
   "cell_type": "code",
   "execution_count": null,
   "id": "b06866fb",
   "metadata": {},
   "outputs": [],
   "source": [
    "df.head(1)"
   ]
  },
  {
   "cell_type": "code",
   "execution_count": null,
   "id": "bd6c35be",
   "metadata": {},
   "outputs": [],
   "source": [
    "#extracting weekday from day of week\n",
    "df['lead_weekday_of_registration']=np.where((df['lead_weekday_of_registration']) < 5,'weekday','weekend')"
   ]
  },
  {
   "cell_type": "code",
   "execution_count": null,
   "id": "f6354521",
   "metadata": {},
   "outputs": [],
   "source": [
    "plt.figure(figsize=(11,9))\n",
    "sns.countplot(x='lead_weekday_of_registration', data=df)\n",
    "plt.xlabel('Weekday/Weekend')\n",
    "plt.ylabel('Number of leads')\n",
    "plt.title('Weekday or weekend for Registration');"
   ]
  },
  {
   "cell_type": "code",
   "execution_count": null,
   "id": "c2c71177",
   "metadata": {},
   "outputs": [],
   "source": [
    "plt.figure(figsize=(11,8))\n",
    "leadweek=pd.crosstab(df['lead_weekday_of_registration'], df['converted'],normalize='index').mul(100).sort_values(by=1,ascending=False)\n",
    "ax = leadweek[1].plot.bar(rot=90)\n",
    "ax.bar_label(ax.containers[0], fmt='%.2f %%')\n",
    "ax.margins(x=15)\n",
    "ax.set_xlabel('Weekday/Weekend')\n",
    "ax.set_ylabel('Percentage of leads that converted')\n",
    "plt.title('Percentage of leads that converted in the Weekday and Weekend')\n",
    "plt.show()"
   ]
  },
  {
   "cell_type": "code",
   "execution_count": null,
   "id": "214d4b0d",
   "metadata": {},
   "outputs": [],
   "source": [
    "df['lead_ua_device_class'].value_counts(normalize=True)*100"
   ]
  },
  {
   "cell_type": "code",
   "execution_count": null,
   "id": "7b4ac753",
   "metadata": {
    "scrolled": false
   },
   "outputs": [],
   "source": [
    "plt.figure(figsize=(11,8))\n",
    "ax=pd.crosstab(df['lead_ua_device_class'], df['converted'],normalize='index')[1].mul(100).sort_values(ascending=False).plot(kind='bar',cmap='gist_heat')\n",
    "ax.bar_label(ax.containers[0], fmt='%.2f %%');"
   ]
  },
  {
   "cell_type": "markdown",
   "id": "c414b674",
   "metadata": {},
   "source": [
    "#### Phone is the device most leads use to register for the app, with almost 94% of all leads registering with it, but only 4.43% of such leads converted\n",
    "#### Desktop has the highest conversion rate, with around 6.69% of all leads converting when they used desktop to sign up, but only 5% of all leads signed up using the desktop"
   ]
  },
  {
   "cell_type": "code",
   "execution_count": null,
   "id": "5b293e68",
   "metadata": {},
   "outputs": [],
   "source": [
    "df.head()"
   ]
  },
  {
   "cell_type": "code",
   "execution_count": null,
   "id": "14d83a86",
   "metadata": {},
   "outputs": [],
   "source": [
    "drop_cols=['lead_hour_of_registration','redirect_hour','redirect_weekday','redirect_month_day','hours_since_last_revenue','conversion_revenue','hours_since_registration','different_redirect_sources']"
   ]
  },
  {
   "cell_type": "code",
   "execution_count": null,
   "id": "3efa47b6",
   "metadata": {},
   "outputs": [],
   "source": [
    "df=df.drop(columns=drop_cols)"
   ]
  },
  {
   "cell_type": "code",
   "execution_count": null,
   "id": "bca44ca7",
   "metadata": {
    "scrolled": true
   },
   "outputs": [],
   "source": [
    "df.head()"
   ]
  },
  {
   "cell_type": "code",
   "execution_count": null,
   "id": "21427f7f",
   "metadata": {},
   "outputs": [],
   "source": []
  },
  {
   "cell_type": "code",
   "execution_count": null,
   "id": "212ca457",
   "metadata": {},
   "outputs": [],
   "source": [
    "#df.to_csv('final_lead_conversion.csv')"
   ]
  }
 ],
 "metadata": {
  "kernelspec": {
   "display_name": "Python 3 (ipykernel)",
   "language": "python",
   "name": "python3"
  },
  "language_info": {
   "codemirror_mode": {
    "name": "ipython",
    "version": 3
   },
   "file_extension": ".py",
   "mimetype": "text/x-python",
   "name": "python",
   "nbconvert_exporter": "python",
   "pygments_lexer": "ipython3",
   "version": "3.8.12"
  }
 },
 "nbformat": 4,
 "nbformat_minor": 5
}
