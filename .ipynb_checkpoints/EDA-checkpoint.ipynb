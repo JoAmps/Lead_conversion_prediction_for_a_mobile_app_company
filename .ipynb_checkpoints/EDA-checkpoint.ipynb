{
 "cells": [
  {
   "cell_type": "code",
   "execution_count": 42,
   "id": "e837b722",
   "metadata": {},
   "outputs": [],
   "source": [
    "#import neccesary libraries\n",
    "import pandas as pd\n",
    "import numpy as np\n",
    "import matplotlib.pyplot as plt\n",
    "import seaborn as sns"
   ]
  },
  {
   "cell_type": "code",
   "execution_count": 2,
   "id": "ccfe1a35",
   "metadata": {},
   "outputs": [
    {
     "name": "stdout",
     "output_type": "stream",
     "text": [
      "There are 303070 rows and 14 columns\n"
     ]
    },
    {
     "data": {
      "text/html": [
       "<div>\n",
       "<style scoped>\n",
       "    .dataframe tbody tr th:only-of-type {\n",
       "        vertical-align: middle;\n",
       "    }\n",
       "\n",
       "    .dataframe tbody tr th {\n",
       "        vertical-align: top;\n",
       "    }\n",
       "\n",
       "    .dataframe thead th {\n",
       "        text-align: right;\n",
       "    }\n",
       "</style>\n",
       "<table border=\"1\" class=\"dataframe\">\n",
       "  <thead>\n",
       "    <tr style=\"text-align: right;\">\n",
       "      <th></th>\n",
       "      <th>lead_hour_of_registration</th>\n",
       "      <th>lead_utm_source</th>\n",
       "      <th>lead_utm_medium</th>\n",
       "      <th>lead_weekday_of_registration</th>\n",
       "      <th>lead_month_day_of_registration</th>\n",
       "      <th>lead_ip_country_code</th>\n",
       "      <th>lead_ua_device_class</th>\n",
       "      <th>redirect_hour</th>\n",
       "      <th>redirect_weekday</th>\n",
       "      <th>redirect_month_day</th>\n",
       "      <th>hours_since_registration</th>\n",
       "      <th>different_redirect_sources</th>\n",
       "      <th>hours_since_last_revenue</th>\n",
       "      <th>conversion_revenue</th>\n",
       "    </tr>\n",
       "  </thead>\n",
       "  <tbody>\n",
       "    <tr>\n",
       "      <th>0</th>\n",
       "      <td>12.0</td>\n",
       "      <td>twitter</td>\n",
       "      <td>social</td>\n",
       "      <td>7.0</td>\n",
       "      <td>4.0</td>\n",
       "      <td>usa</td>\n",
       "      <td>Phone</td>\n",
       "      <td>10.0</td>\n",
       "      <td>1.0</td>\n",
       "      <td>5.0</td>\n",
       "      <td>21.242587</td>\n",
       "      <td>0</td>\n",
       "      <td>0.0</td>\n",
       "      <td>0</td>\n",
       "    </tr>\n",
       "    <tr>\n",
       "      <th>1</th>\n",
       "      <td>12.0</td>\n",
       "      <td>twitter</td>\n",
       "      <td>social</td>\n",
       "      <td>7.0</td>\n",
       "      <td>4.0</td>\n",
       "      <td>usa</td>\n",
       "      <td>Phone</td>\n",
       "      <td>15.0</td>\n",
       "      <td>1.0</td>\n",
       "      <td>5.0</td>\n",
       "      <td>27.088106</td>\n",
       "      <td>1</td>\n",
       "      <td>0.0</td>\n",
       "      <td>0</td>\n",
       "    </tr>\n",
       "    <tr>\n",
       "      <th>2</th>\n",
       "      <td>10.0</td>\n",
       "      <td>google_ads</td>\n",
       "      <td>social</td>\n",
       "      <td>5.0</td>\n",
       "      <td>5.0</td>\n",
       "      <td>usa</td>\n",
       "      <td>Phone</td>\n",
       "      <td>9.0</td>\n",
       "      <td>2.0</td>\n",
       "      <td>13.0</td>\n",
       "      <td>935.132797</td>\n",
       "      <td>2</td>\n",
       "      <td>0.0</td>\n",
       "      <td>0</td>\n",
       "    </tr>\n",
       "    <tr>\n",
       "      <th>3</th>\n",
       "      <td>10.0</td>\n",
       "      <td>google_ads</td>\n",
       "      <td>social</td>\n",
       "      <td>5.0</td>\n",
       "      <td>5.0</td>\n",
       "      <td>usa</td>\n",
       "      <td>Phone</td>\n",
       "      <td>9.0</td>\n",
       "      <td>2.0</td>\n",
       "      <td>13.0</td>\n",
       "      <td>935.297885</td>\n",
       "      <td>2</td>\n",
       "      <td>0.0</td>\n",
       "      <td>0</td>\n",
       "    </tr>\n",
       "    <tr>\n",
       "      <th>4</th>\n",
       "      <td>10.0</td>\n",
       "      <td>google_ads</td>\n",
       "      <td>social</td>\n",
       "      <td>5.0</td>\n",
       "      <td>5.0</td>\n",
       "      <td>usa</td>\n",
       "      <td>Phone</td>\n",
       "      <td>9.0</td>\n",
       "      <td>2.0</td>\n",
       "      <td>13.0</td>\n",
       "      <td>935.306091</td>\n",
       "      <td>2</td>\n",
       "      <td>0.0</td>\n",
       "      <td>0</td>\n",
       "    </tr>\n",
       "  </tbody>\n",
       "</table>\n",
       "</div>"
      ],
      "text/plain": [
       "   lead_hour_of_registration lead_utm_source lead_utm_medium  \\\n",
       "0                       12.0         twitter          social   \n",
       "1                       12.0         twitter          social   \n",
       "2                       10.0      google_ads          social   \n",
       "3                       10.0      google_ads          social   \n",
       "4                       10.0      google_ads          social   \n",
       "\n",
       "   lead_weekday_of_registration  lead_month_day_of_registration  \\\n",
       "0                           7.0                             4.0   \n",
       "1                           7.0                             4.0   \n",
       "2                           5.0                             5.0   \n",
       "3                           5.0                             5.0   \n",
       "4                           5.0                             5.0   \n",
       "\n",
       "  lead_ip_country_code lead_ua_device_class  redirect_hour  redirect_weekday  \\\n",
       "0                  usa                Phone           10.0               1.0   \n",
       "1                  usa                Phone           15.0               1.0   \n",
       "2                  usa                Phone            9.0               2.0   \n",
       "3                  usa                Phone            9.0               2.0   \n",
       "4                  usa                Phone            9.0               2.0   \n",
       "\n",
       "   redirect_month_day  hours_since_registration  different_redirect_sources  \\\n",
       "0                 5.0                 21.242587                           0   \n",
       "1                 5.0                 27.088106                           1   \n",
       "2                13.0                935.132797                           2   \n",
       "3                13.0                935.297885                           2   \n",
       "4                13.0                935.306091                           2   \n",
       "\n",
       "   hours_since_last_revenue  conversion_revenue  \n",
       "0                       0.0                   0  \n",
       "1                       0.0                   0  \n",
       "2                       0.0                   0  \n",
       "3                       0.0                   0  \n",
       "4                       0.0                   0  "
      ]
     },
     "execution_count": 2,
     "metadata": {},
     "output_type": "execute_result"
    }
   ],
   "source": [
    "#read in dataset\n",
    "df=pd.read_csv('datasets/lead_convert.csv',index_col=0)\n",
    "print(f\"There are {df.shape[0]} rows and {df.shape[1]} columns\")\n",
    "df.head()"
   ]
  },
  {
   "cell_type": "code",
   "execution_count": 3,
   "id": "d494d358",
   "metadata": {},
   "outputs": [],
   "source": [
    "#improve column name\n",
    "df=df.rename(columns={'lead_ip_country_code':'lead_country_of_registration'})"
   ]
  },
  {
   "cell_type": "code",
   "execution_count": 4,
   "id": "ed7f90a3",
   "metadata": {
    "scrolled": true
   },
   "outputs": [
    {
     "name": "stdout",
     "output_type": "stream",
     "text": [
      "<class 'pandas.core.frame.DataFrame'>\n",
      "Int64Index: 303070 entries, 0 to 314150\n",
      "Data columns (total 14 columns):\n",
      " #   Column                          Non-Null Count   Dtype  \n",
      "---  ------                          --------------   -----  \n",
      " 0   lead_hour_of_registration       303070 non-null  float64\n",
      " 1   lead_utm_source                 303070 non-null  object \n",
      " 2   lead_utm_medium                 303064 non-null  object \n",
      " 3   lead_weekday_of_registration    303070 non-null  float64\n",
      " 4   lead_month_day_of_registration  303070 non-null  float64\n",
      " 5   lead_country_of_registration    303070 non-null  object \n",
      " 6   lead_ua_device_class            303070 non-null  object \n",
      " 7   redirect_hour                   303070 non-null  float64\n",
      " 8   redirect_weekday                303070 non-null  float64\n",
      " 9   redirect_month_day              303070 non-null  float64\n",
      " 10  hours_since_registration        303070 non-null  float64\n",
      " 11  different_redirect_sources      303070 non-null  int64  \n",
      " 12  hours_since_last_revenue        303070 non-null  float64\n",
      " 13  conversion_revenue              303070 non-null  int64  \n",
      "dtypes: float64(8), int64(2), object(4)\n",
      "memory usage: 34.7+ MB\n"
     ]
    }
   ],
   "source": [
    "df.info()"
   ]
  },
  {
   "cell_type": "code",
   "execution_count": 5,
   "id": "f12e36fd",
   "metadata": {},
   "outputs": [
    {
     "data": {
      "text/plain": [
       "lead_hour_of_registration         0\n",
       "lead_utm_source                   0\n",
       "lead_utm_medium                   6\n",
       "lead_weekday_of_registration      0\n",
       "lead_month_day_of_registration    0\n",
       "lead_country_of_registration      0\n",
       "lead_ua_device_class              0\n",
       "redirect_hour                     0\n",
       "redirect_weekday                  0\n",
       "redirect_month_day                0\n",
       "hours_since_registration          0\n",
       "different_redirect_sources        0\n",
       "hours_since_last_revenue          0\n",
       "conversion_revenue                0\n",
       "dtype: int64"
      ]
     },
     "execution_count": 5,
     "metadata": {},
     "output_type": "execute_result"
    }
   ],
   "source": [
    "#check for missing values\n",
    "df.isnull().sum()"
   ]
  },
  {
   "cell_type": "code",
   "execution_count": 6,
   "id": "ed85b0d9",
   "metadata": {},
   "outputs": [
    {
     "data": {
      "text/plain": [
       "lead_hour_of_registration         0.00000\n",
       "lead_utm_source                   0.00000\n",
       "lead_utm_medium                   0.00198\n",
       "lead_weekday_of_registration      0.00000\n",
       "lead_month_day_of_registration    0.00000\n",
       "lead_country_of_registration      0.00000\n",
       "lead_ua_device_class              0.00000\n",
       "redirect_hour                     0.00000\n",
       "redirect_weekday                  0.00000\n",
       "redirect_month_day                0.00000\n",
       "hours_since_registration          0.00000\n",
       "different_redirect_sources        0.00000\n",
       "hours_since_last_revenue          0.00000\n",
       "conversion_revenue                0.00000\n",
       "dtype: float64"
      ]
     },
     "execution_count": 6,
     "metadata": {},
     "output_type": "execute_result"
    }
   ],
   "source": [
    "#percentage of missing values\n",
    "(df.isnull().sum()/len(df))*100"
   ]
  },
  {
   "cell_type": "markdown",
   "id": "bdd92801",
   "metadata": {},
   "source": [
    "#### Only the lead_utm_medium has missing values, but only 6 of them, accounting for less than 1% of it"
   ]
  },
  {
   "cell_type": "code",
   "execution_count": 7,
   "id": "d3ceccbf",
   "metadata": {},
   "outputs": [
    {
     "data": {
      "text/plain": [
       "facebook      44.653710\n",
       "twitter       29.292903\n",
       "google_ads    20.798825\n",
       "youtube        3.270862\n",
       "newsletter     1.293431\n",
       "medium         0.409806\n",
       "instagram      0.280463\n",
       "Name: lead_utm_source, dtype: float64"
      ]
     },
     "execution_count": 7,
     "metadata": {},
     "output_type": "execute_result"
    }
   ],
   "source": [
    "df['lead_utm_source'].value_counts(normalize=True)*100"
   ]
  },
  {
   "cell_type": "code",
   "execution_count": 8,
   "id": "0d08cb85",
   "metadata": {},
   "outputs": [],
   "source": [
    "#filling the missing values with the mode\n",
    "df['lead_utm_medium']=df['lead_utm_medium'].fillna(df['lead_utm_medium'].mode()[0])"
   ]
  },
  {
   "cell_type": "code",
   "execution_count": 9,
   "id": "833d181a",
   "metadata": {},
   "outputs": [
    {
     "data": {
      "text/plain": [
       "lead_hour_of_registration         0\n",
       "lead_utm_source                   0\n",
       "lead_utm_medium                   0\n",
       "lead_weekday_of_registration      0\n",
       "lead_month_day_of_registration    0\n",
       "lead_country_of_registration      0\n",
       "lead_ua_device_class              0\n",
       "redirect_hour                     0\n",
       "redirect_weekday                  0\n",
       "redirect_month_day                0\n",
       "hours_since_registration          0\n",
       "different_redirect_sources        0\n",
       "hours_since_last_revenue          0\n",
       "conversion_revenue                0\n",
       "dtype: int64"
      ]
     },
     "execution_count": 9,
     "metadata": {},
     "output_type": "execute_result"
    }
   ],
   "source": [
    "#confirming there are no mising values anymore\n",
    "df.isnull().sum()"
   ]
  },
  {
   "cell_type": "code",
   "execution_count": 10,
   "id": "e1b65bb3",
   "metadata": {},
   "outputs": [
    {
     "data": {
      "text/plain": [
       "count    303070.000000\n",
       "mean          1.249282\n",
       "std           7.311844\n",
       "min           0.000000\n",
       "25%           0.000000\n",
       "50%           0.000000\n",
       "75%           0.000000\n",
       "max          90.000000\n",
       "Name: conversion_revenue, dtype: float64"
      ]
     },
     "execution_count": 10,
     "metadata": {},
     "output_type": "execute_result"
    }
   ],
   "source": [
    "df['conversion_revenue'].describe()"
   ]
  },
  {
   "cell_type": "code",
   "execution_count": 11,
   "id": "3196ce36",
   "metadata": {},
   "outputs": [
    {
     "data": {
      "text/plain": [
       "30.0"
      ]
     },
     "execution_count": 11,
     "metadata": {},
     "output_type": "execute_result"
    }
   ],
   "source": [
    "np.percentile(df['conversion_revenue'],99)"
   ]
  },
  {
   "cell_type": "code",
   "execution_count": 12,
   "id": "9604717c",
   "metadata": {},
   "outputs": [],
   "source": [
    "#I would create a new feature called converted, where any revenue above 0 means lead was converted and below 0 means lead was not converted\n",
    "df['converted']=np.repeat(df.conversion_revenue.values,1)\n",
    "df['converted']=pd.Series(np.where(df['converted'].values == 0, 0, 1),df.index)"
   ]
  },
  {
   "cell_type": "code",
   "execution_count": 13,
   "id": "368ae17d",
   "metadata": {},
   "outputs": [
    {
     "data": {
      "image/png": "[encoded data removed]",
      "text/plain": [
       "<Figure size 648x648 with 1 Axes>"
      ]
     },
     "metadata": {},
     "output_type": "display_data"
    }
   ],
   "source": [
    "fig1, ax1 = plt.subplots(figsize=(9,9))\n",
    "explode=(0.1,0.1)\n",
    "plt.pie(df['converted'].value_counts(),labels=df['converted'].unique(), explode=explode,shadow=True,\n",
    "        startangle=90,autopct='%.2f')\n",
    "ax1.axis('equal');\n",
    "ax1.set_title('Leads that converted',fontdict={'size':20});"
   ]
  },
  {
   "cell_type": "markdown",
   "id": "7ac21949",
   "metadata": {},
   "source": [
    "#### 1 refers to leads that converted, and 0 refers to lead not converting\n",
    "#### 95.46% of leads did not convert, which suggests this app needs to do better to convert more leads to make more profit"
   ]
  },
  {
   "cell_type": "code",
   "execution_count": 14,
   "id": "4fbbf1ca",
   "metadata": {},
   "outputs": [
    {
     "data": {
      "text/plain": [
       "usa             98.972185\n",
       "uk               0.529911\n",
       "india            0.206553\n",
       "france           0.085459\n",
       "russia           0.045534\n",
       "china            0.040585\n",
       "south_africa     0.029366\n",
       "germany          0.025077\n",
       "nigeria          0.020787\n",
       "japan            0.015508\n",
       "italy            0.011219\n",
       "pakistan         0.009899\n",
       "ghana            0.007919\n",
       "Name: lead_country_of_registration, dtype: float64"
      ]
     },
     "execution_count": 14,
     "metadata": {},
     "output_type": "execute_result"
    }
   ],
   "source": [
    "df['lead_country_of_registration'].value_counts(normalize=True)*100"
   ]
  },
  {
   "cell_type": "markdown",
   "id": "9dc972ac",
   "metadata": {},
   "source": [
    "#### Most leads reside in the United states, with over 98% of leads, the rest of the countries accoutn for less than 1%"
   ]
  },
  {
   "cell_type": "code",
   "execution_count": 15,
   "id": "19f65e75",
   "metadata": {},
   "outputs": [
    {
     "data": {
      "image/png": "[encoded data removed]",
      "text/plain": [
       "<Figure size 936x648 with 1 Axes>"
      ]
     },
     "metadata": {
      "needs_background": "light"
     },
     "output_type": "display_data"
    }
   ],
   "source": [
    "plt.figure(figsize=(13,9))\n",
    "ax=pd.crosstab(df['lead_country_of_registration'], df['converted'],normalize='index')[1].mul(100).sort_values(ascending=True).plot(kind='barh',cmap='crest')\n",
    "ax.bar_label(ax.containers[0], fmt='%.2f %%');"
   ]
  },
  {
   "cell_type": "markdown",
   "id": "61939eab",
   "metadata": {},
   "source": [
    "#### Even though the United states accounted for nearly 99% of all leads, less than 5% of them converted\n",
    "#### The UK which accounted for less than 1% of all leads, had the most leads converting, with around 5.27% of leads converting\n",
    "#### Italy and Ghana had no lead converting"
   ]
  },
  {
   "cell_type": "code",
   "execution_count": 16,
   "id": "70e169d5",
   "metadata": {},
   "outputs": [
    {
     "data": {
      "text/plain": [
       "facebook      44.653710\n",
       "twitter       29.292903\n",
       "google_ads    20.798825\n",
       "youtube        3.270862\n",
       "newsletter     1.293431\n",
       "medium         0.409806\n",
       "instagram      0.280463\n",
       "Name: lead_utm_source, dtype: float64"
      ]
     },
     "execution_count": 16,
     "metadata": {},
     "output_type": "execute_result"
    }
   ],
   "source": [
    "df['lead_utm_source'].value_counts(normalize=True)*100"
   ]
  },
  {
   "cell_type": "code",
   "execution_count": 17,
   "id": "5d204e11",
   "metadata": {},
   "outputs": [
    {
     "data": {
      "image/png": "[encoded data removed]",
      "text/plain": [
       "<Figure size 792x576 with 1 Axes>"
      ]
     },
     "metadata": {
      "needs_background": "light"
     },
     "output_type": "display_data"
    }
   ],
   "source": [
    "plt.figure(figsize=(11,8))\n",
    "ax=pd.crosstab(df['lead_utm_source'], df['converted'],normalize='index')[1].mul(100).sort_values(ascending=False).plot(kind='bar',cmap='coolwarm_r')\n",
    "ax.bar_label(ax.containers[0], fmt='%.2f %%');"
   ]
  },
  {
   "cell_type": "markdown",
   "id": "f00bce07",
   "metadata": {},
   "source": [
    "#### Facebook is the source that most leads redirect from, but only 3.73% of leads convert from there\n",
    "#### Medium redirection acounts for the most lead conversion with 6.76%, even though less than 1% of all leads redirect from there"
   ]
  },
  {
   "cell_type": "code",
   "execution_count": 18,
   "id": "606b8945",
   "metadata": {},
   "outputs": [
    {
     "data": {
      "text/plain": [
       "count    303070.000000\n",
       "mean          8.677593\n",
       "std           5.762702\n",
       "min           0.000000\n",
       "25%           4.000000\n",
       "50%           8.000000\n",
       "75%          13.000000\n",
       "max          23.000000\n",
       "Name: lead_hour_of_registration, dtype: float64"
      ]
     },
     "execution_count": 18,
     "metadata": {},
     "output_type": "execute_result"
    }
   ],
   "source": [
    "df['lead_hour_of_registration'].describe()"
   ]
  },
  {
   "cell_type": "code",
   "execution_count": 19,
   "id": "eeaad30d",
   "metadata": {},
   "outputs": [
    {
     "data": {
      "image/png": "[encoded data removed]",
      "text/plain": [
       "<Figure size 792x576 with 1 Axes>"
      ]
     },
     "metadata": {
      "needs_background": "light"
     },
     "output_type": "display_data"
    }
   ],
   "source": [
    "#creating time of registraion from hour of registration\n",
    "df['lead_time_of_registration']=pd.cut(df['lead_hour_of_registration'], [0,5,9,14,20,24], labels=['Dawn','Morning','Afternoon','Evening','Night'], right=False,include_lowest=True)\n",
    "ax=(df['lead_time_of_registration'].value_counts(normalize=True)*100).plot(kind='bar',figsize=(11,8),cmap='tab10_r')\n",
    "ax.bar_label(ax.containers[0], fmt='%.2f %%');"
   ]
  },
  {
   "cell_type": "markdown",
   "id": "da446c00",
   "metadata": {},
   "source": [
    "#### Most leads check out the app and register at dawn, with a little over 27% of them doing so\n",
    "#### Night time is the time of the day with the least amount of leads registering with a little below 6% of leads"
   ]
  },
  {
   "cell_type": "code",
   "execution_count": 20,
   "id": "5dcdb45d",
   "metadata": {},
   "outputs": [
    {
     "data": {
      "text/plain": [
       "social            98.195796\n",
       "paid               0.512423\n",
       "email              0.422015\n",
       "affiliates         0.358993\n",
       "banner             0.280463\n",
       "cpc                0.214802\n",
       "organic_search     0.010889\n",
       "display            0.004619\n",
       "Name: lead_utm_medium, dtype: float64"
      ]
     },
     "execution_count": 20,
     "metadata": {},
     "output_type": "execute_result"
    }
   ],
   "source": [
    "(df['lead_utm_medium'].value_counts()/ len(df['lead_utm_medium']))*100"
   ]
  },
  {
   "cell_type": "code",
   "execution_count": 21,
   "id": "1f9ac0b9",
   "metadata": {},
   "outputs": [
    {
     "data": {
      "image/png": "[encoded data removed]",
      "text/plain": [
       "<Figure size 792x576 with 1 Axes>"
      ]
     },
     "metadata": {
      "needs_background": "light"
     },
     "output_type": "display_data"
    }
   ],
   "source": [
    "plt.figure(figsize=(11,8))\n",
    "ax=pd.crosstab(df['lead_utm_medium'], df['converted'],normalize='index')[1].mul(100).sort_values(ascending=False).plot(kind='bar',cmap='Paired')\n",
    "ax.bar_label(ax.containers[0], fmt='%.2f %%');"
   ]
  },
  {
   "cell_type": "markdown",
   "id": "f4f2ef66",
   "metadata": {},
   "source": [
    "#### leads from social media sites account for about 98% of all leads, but only 4.55% of them converted\n",
    "#### leads who use organic search have the most leads converting with around 6% of them converting, while they have less than 1% of all leads using organic searches"
   ]
  },
  {
   "cell_type": "code",
   "execution_count": 22,
   "id": "08677ee1",
   "metadata": {},
   "outputs": [
    {
     "data": {
      "text/plain": [
       "count    303070.000000\n",
       "mean        879.456764\n",
       "std        1675.665454\n",
       "min           0.001011\n",
       "25%          16.307794\n",
       "50%         189.447758\n",
       "75%         803.832045\n",
       "max        9488.343941\n",
       "Name: hours_since_registration, dtype: float64"
      ]
     },
     "execution_count": 22,
     "metadata": {},
     "output_type": "execute_result"
    }
   ],
   "source": [
    "df['hours_since_registration'].describe()"
   ]
  },
  {
   "cell_type": "code",
   "execution_count": 23,
   "id": "0aa0aaaa",
   "metadata": {},
   "outputs": [
    {
     "data": {
      "image/png": "[encoded data removed]",
      "text/plain": [
       "<Figure size 792x576 with 1 Axes>"
      ]
     },
     "metadata": {
      "needs_background": "light"
     },
     "output_type": "display_data"
    }
   ],
   "source": [
    "df['Time since registration']=pd.cut(df['hours_since_registration'], [0,17,190,805,9490], labels=['Under one day','A day to a week','A week to a month','A month to over a year'], right=False,include_lowest=True)\n",
    "ax=(df['Time since registration'].value_counts(normalize=True)*100).sort_values(ascending=True).plot(kind='barh',figsize=(11,8),cmap='Wistia_r')\n",
    "ax.bar_label(ax.containers[0], fmt='%.2f %%');"
   ]
  },
  {
   "cell_type": "markdown",
   "id": "798e357d",
   "metadata": {},
   "source": [
    "#### Most people check the app and register on that same app, with 25.23% of people doing that\n",
    "#### Generally, theres not much difference between the time individuals first check the app, and the time they register\n",
    "#### Even those that wait for a month to a year account fo 24.98%, which isnt that much different from the 25.23% of peope that do so in a day"
   ]
  },
  {
   "cell_type": "code",
   "execution_count": 24,
   "id": "b06866fb",
   "metadata": {},
   "outputs": [
    {
     "data": {
      "text/html": [
       "<div>\n",
       "<style scoped>\n",
       "    .dataframe tbody tr th:only-of-type {\n",
       "        vertical-align: middle;\n",
       "    }\n",
       "\n",
       "    .dataframe tbody tr th {\n",
       "        vertical-align: top;\n",
       "    }\n",
       "\n",
       "    .dataframe thead th {\n",
       "        text-align: right;\n",
       "    }\n",
       "</style>\n",
       "<table border=\"1\" class=\"dataframe\">\n",
       "  <thead>\n",
       "    <tr style=\"text-align: right;\">\n",
       "      <th></th>\n",
       "      <th>lead_hour_of_registration</th>\n",
       "      <th>lead_utm_source</th>\n",
       "      <th>lead_utm_medium</th>\n",
       "      <th>lead_weekday_of_registration</th>\n",
       "      <th>lead_month_day_of_registration</th>\n",
       "      <th>lead_country_of_registration</th>\n",
       "      <th>lead_ua_device_class</th>\n",
       "      <th>redirect_hour</th>\n",
       "      <th>redirect_weekday</th>\n",
       "      <th>redirect_month_day</th>\n",
       "      <th>hours_since_registration</th>\n",
       "      <th>different_redirect_sources</th>\n",
       "      <th>hours_since_last_revenue</th>\n",
       "      <th>conversion_revenue</th>\n",
       "      <th>converted</th>\n",
       "      <th>lead_time_of_registration</th>\n",
       "      <th>Time since registration</th>\n",
       "    </tr>\n",
       "  </thead>\n",
       "  <tbody>\n",
       "    <tr>\n",
       "      <th>0</th>\n",
       "      <td>12.0</td>\n",
       "      <td>twitter</td>\n",
       "      <td>social</td>\n",
       "      <td>7.0</td>\n",
       "      <td>4.0</td>\n",
       "      <td>usa</td>\n",
       "      <td>Phone</td>\n",
       "      <td>10.0</td>\n",
       "      <td>1.0</td>\n",
       "      <td>5.0</td>\n",
       "      <td>21.242587</td>\n",
       "      <td>0</td>\n",
       "      <td>0.0</td>\n",
       "      <td>0</td>\n",
       "      <td>0</td>\n",
       "      <td>Afternoon</td>\n",
       "      <td>A day to a week</td>\n",
       "    </tr>\n",
       "  </tbody>\n",
       "</table>\n",
       "</div>"
      ],
      "text/plain": [
       "   lead_hour_of_registration lead_utm_source lead_utm_medium  \\\n",
       "0                       12.0         twitter          social   \n",
       "\n",
       "   lead_weekday_of_registration  lead_month_day_of_registration  \\\n",
       "0                           7.0                             4.0   \n",
       "\n",
       "  lead_country_of_registration lead_ua_device_class  redirect_hour  \\\n",
       "0                          usa                Phone           10.0   \n",
       "\n",
       "   redirect_weekday  redirect_month_day  hours_since_registration  \\\n",
       "0               1.0                 5.0                 21.242587   \n",
       "\n",
       "   different_redirect_sources  hours_since_last_revenue  conversion_revenue  \\\n",
       "0                           0                       0.0                   0   \n",
       "\n",
       "   converted lead_time_of_registration Time since registration  \n",
       "0          0                 Afternoon         A day to a week  "
      ]
     },
     "execution_count": 24,
     "metadata": {},
     "output_type": "execute_result"
    }
   ],
   "source": [
    "df.head(1)"
   ]
  },
  {
   "cell_type": "code",
   "execution_count": 25,
   "id": "bd6c35be",
   "metadata": {},
   "outputs": [],
   "source": [
    "#extracting weekday from day of week\n",
    "df['lead_weekday_of_registration']=np.where((df['lead_weekday_of_registration']) < 5,'weekday','weekend')"
   ]
  },
  {
   "cell_type": "code",
   "execution_count": 26,
   "id": "f6354521",
   "metadata": {},
   "outputs": [
    {
     "data": {
      "image/png": "[encoded data removed]",
      "text/plain": [
       "<Figure size 792x648 with 1 Axes>"
      ]
     },
     "metadata": {
      "needs_background": "light"
     },
     "output_type": "display_data"
    }
   ],
   "source": [
    "plt.figure(figsize=(11,9))\n",
    "sns.countplot(x='lead_weekday_of_registration', data=df)\n",
    "plt.xlabel('Weekday/Weekend')\n",
    "plt.ylabel('Number of leads')\n",
    "plt.title('Weekday or weekend for Registration');"
   ]
  },
  {
   "cell_type": "code",
   "execution_count": 27,
   "id": "c2c71177",
   "metadata": {},
   "outputs": [
    {
     "data": {
      "image/png": "[encoded data removed]",
      "text/plain": [
       "<Figure size 792x576 with 1 Axes>"
      ]
     },
     "metadata": {
      "needs_background": "light"
     },
     "output_type": "display_data"
    }
   ],
   "source": [
    "plt.figure(figsize=(11,8))\n",
    "leadweek=pd.crosstab(df['lead_weekday_of_registration'], df['converted'],normalize='index').mul(100).sort_values(by=1,ascending=False)\n",
    "ax = leadweek[1].plot.bar(rot=90)\n",
    "ax.bar_label(ax.containers[0], fmt='%.2f %%')\n",
    "ax.margins(x=15)\n",
    "ax.set_xlabel('Weekday/Weekend')\n",
    "ax.set_ylabel('Percentage of leads that converted')\n",
    "plt.title('Percentage of leads that converted in the Weekday and Weekend')\n",
    "plt.show()"
   ]
  },
  {
   "cell_type": "code",
   "execution_count": 28,
   "id": "214d4b0d",
   "metadata": {},
   "outputs": [
    {
     "data": {
      "text/plain": [
       "Phone          93.892500\n",
       "Desktop         5.089913\n",
       "Tablet          0.697199\n",
       "Unknown         0.280463\n",
       "Set-top box     0.016828\n",
       "Mobile          0.016498\n",
       "TV              0.006599\n",
       "Name: lead_ua_device_class, dtype: float64"
      ]
     },
     "execution_count": 28,
     "metadata": {},
     "output_type": "execute_result"
    }
   ],
   "source": [
    "df['lead_ua_device_class'].value_counts(normalize=True)*100"
   ]
  },
  {
   "cell_type": "code",
   "execution_count": 29,
   "id": "7b4ac753",
   "metadata": {
    "scrolled": true
   },
   "outputs": [
    {
     "data": {
      "image/png": "[encoded data removed]",
      "text/plain": [
       "<Figure size 792x576 with 1 Axes>"
      ]
     },
     "metadata": {
      "needs_background": "light"
     },
     "output_type": "display_data"
    }
   ],
   "source": [
    "plt.figure(figsize=(11,8))\n",
    "ax=pd.crosstab(df['lead_ua_device_class'], df['converted'],normalize='index')[1].mul(100).sort_values(ascending=False).plot(kind='bar',cmap='gist_heat')\n",
    "ax.bar_label(ax.containers[0], fmt='%.2f %%');"
   ]
  },
  {
   "cell_type": "markdown",
   "id": "c414b674",
   "metadata": {},
   "source": [
    "#### Phone is the device most leads use to register for the app, with almost 94% of all leads registering with it, but only 4.43% of such leads converted\n",
    "#### Desktop has the highest conversion rate, with around 6.69% of all leads converting when they used desktop to sign up, but only 5% of all leads signed up using the desktop"
   ]
  },
  {
   "cell_type": "code",
   "execution_count": null,
   "id": "7fd2b86b",
   "metadata": {},
   "outputs": [],
   "source": []
  },
  {
   "cell_type": "code",
   "execution_count": null,
   "id": "5cba2ac7",
   "metadata": {},
   "outputs": [],
   "source": []
  }
 ],
 "metadata": {
  "kernelspec": {
   "display_name": "Python 3 (ipykernel)",
   "language": "python",
   "name": "python3"
  },
  "language_info": {
   "codemirror_mode": {
    "name": "ipython",
    "version": 3
   },
   "file_extension": ".py",
   "mimetype": "text/x-python",
   "name": "python",
   "nbconvert_exporter": "python",
   "pygments_lexer": "ipython3",
   "version": "3.8.12"
  }
 },
 "nbformat": 4,
 "nbformat_minor": 5
}
